{
 "cells": [
  {
   "cell_type": "code",
   "execution_count": 2,
   "id": "4566639a-d120-4ba3-9d3b-eb6a9dedc0ee",
   "metadata": {},
   "outputs": [
    {
     "data": {
      "text/html": [
       "\n",
       "            <style>\n",
       "                .geemap-dark {\n",
       "                    --jp-widgets-color: white;\n",
       "                    --jp-widgets-label-color: white;\n",
       "                    --jp-ui-font-color1: white;\n",
       "                    --jp-layout-color2: #454545;\n",
       "                    background-color: #383838;\n",
       "                }\n",
       "\n",
       "                .geemap-dark .jupyter-button {\n",
       "                    --jp-layout-color3: #383838;\n",
       "                }\n",
       "\n",
       "                .geemap-colab {\n",
       "                    background-color: var(--colab-primary-surface-color, white);\n",
       "                }\n",
       "\n",
       "                .geemap-colab .jupyter-button {\n",
       "                    --jp-layout-color3: var(--colab-primary-surface-color, white);\n",
       "                }\n",
       "            </style>\n",
       "            "
      ],
      "text/plain": [
       "<IPython.core.display.HTML object>"
      ]
     },
     "metadata": {},
     "output_type": "display_data"
    },
    {
     "name": "stdout",
     "output_type": "stream",
     "text": [
      "Earth Engine inicializado correctamente.\n"
     ]
    }
   ],
   "source": [
    "# Importar las librerías necesarias\n",
    "import ee\n",
    "import geemap\n",
    "import pandas as pd\n",
    "import numpy as np\n",
    "import matplotlib.pyplot as plt\n",
    "\n",
    "# Inicializar la API de Earth Engine (necesario una vez por sesión)\n",
    "try:\n",
    "    ee.Initialize(project='supple-walker-461710-b8')\n",
    "    print(\"Earth Engine inicializado correctamente.\")\n",
    "except Exception as e:\n",
    "    ee.Authenticate()\n",
    "    ee.Initialize()\n",
    "    print(\"Autenticación realizada e inicialización completada.\")"
   ]
  },
  {
   "cell_type": "code",
   "execution_count": 9,
   "id": "d2d707a6-d331-464a-bf9c-e243ee22c26f",
   "metadata": {},
   "outputs": [],
   "source": []
  },
  {
   "cell_type": "code",
   "execution_count": 10,
   "id": "efff64e7-d2b9-4776-8962-544ef49d4f94",
   "metadata": {},
   "outputs": [
    {
     "name": "stdout",
     "output_type": "stream",
     "text": [
      "{'type': 'Image', 'bands': [{'id': 'NDVI', 'data_type': {'type': 'PixelType', 'precision': 'float', 'min': -1, 'max': 1}, 'dimensions': [10980, 10980], 'crs': 'EPSG:32758', 'crs_transform': [10, 0, 699960, 0, -10, 5200000]}], 'properties': {'system:footprint': {'type': 'LinearRing', 'coordinates': [[168.88126138892443, -44.27538903568783], [168.88138230217945, -44.27531529530797], [168.86523249351725, -44.028765622445135], [168.84928840158696, -43.78222091755165], [168.83354563859356, -43.53566103063746], [168.81800119504976, -43.28908587432116], [168.8179000807092, -43.28899918538118], [167.950351850814, -43.31469658582121], [167.94962987160747, -43.31585128796607], [167.9397148079728, -43.34042360681029], [167.7378001369215, -43.851623494342725], [167.67403955612014, -44.01141130008273], [167.6430527036819, -44.088839227119934], [167.6147016484435, -44.15971561050575], [167.5795123113715, -44.247484377278006], [167.55373692645753, -44.311817367808935], [167.55376255389234, -44.312408289785836], [167.55435504457697, -44.31280792622158], [168.88126138892443, -44.27538903568783]]}}}\n"
     ]
    }
   ],
   "source": [
    "# Definir área de interés (AOI)\n",
    "aoi = ee.Geometry.Rectangle([167.6, -45.2, 168.9, -44.1])  # Ajusta si es necesario\n",
    "\n",
    "# Filtrar imagen Sentinel-2\n",
    "image = ee.ImageCollection(\"COPERNICUS/S2_SR_HARMONIZED\") \\\n",
    "    .filterBounds(aoi) \\\n",
    "    .filterDate('2023-01-01', '2023-01-31') \\\n",
    "    .sort('CLOUDY_PIXEL_PERCENTAGE') \\\n",
    "    .first()\n",
    "\n",
    "# Calcular NDVI\n",
    "ndvi = image.normalizedDifference(['B8', 'B4']).rename('NDVI')\n",
    "\n",
    "# Imprimir estructura para confirmar\n",
    "print(ndvi.getInfo())"
   ]
  },
  {
   "cell_type": "code",
   "execution_count": null,
   "id": "80e03251-ce3b-4c33-84dc-e57e53c8e4f1",
   "metadata": {},
   "outputs": [],
   "source": []
  }
 ],
 "metadata": {
  "kernelspec": {
   "display_name": "Python 3 (ipykernel)",
   "language": "python",
   "name": "python3"
  },
  "language_info": {
   "codemirror_mode": {
    "name": "ipython",
    "version": 3
   },
   "file_extension": ".py",
   "mimetype": "text/x-python",
   "name": "python",
   "nbconvert_exporter": "python",
   "pygments_lexer": "ipython3",
   "version": "3.11.11"
  }
 },
 "nbformat": 4,
 "nbformat_minor": 5
}
