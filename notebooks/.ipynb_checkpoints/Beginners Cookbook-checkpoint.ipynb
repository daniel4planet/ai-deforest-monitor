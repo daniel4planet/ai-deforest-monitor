{
 "cells": [
  {
   "cell_type": "code",
   "execution_count": 2,
   "id": "94f8798f-f86c-4eaa-86c5-04c0b9a5f297",
   "metadata": {},
   "outputs": [
    {
     "data": {
      "text/html": [
       "\n",
       "            <style>\n",
       "                .geemap-dark {\n",
       "                    --jp-widgets-color: white;\n",
       "                    --jp-widgets-label-color: white;\n",
       "                    --jp-ui-font-color1: white;\n",
       "                    --jp-layout-color2: #454545;\n",
       "                    background-color: #383838;\n",
       "                }\n",
       "\n",
       "                .geemap-dark .jupyter-button {\n",
       "                    --jp-layout-color3: #383838;\n",
       "                }\n",
       "\n",
       "                .geemap-colab {\n",
       "                    background-color: var(--colab-primary-surface-color, white);\n",
       "                }\n",
       "\n",
       "                .geemap-colab .jupyter-button {\n",
       "                    --jp-layout-color3: var(--colab-primary-surface-color, white);\n",
       "                }\n",
       "            </style>\n",
       "            "
      ],
      "text/plain": [
       "<IPython.core.display.HTML object>"
      ]
     },
     "metadata": {},
     "output_type": "display_data"
    },
    {
     "name": "stdout",
     "output_type": "stream",
     "text": [
      "Earth Engine inicializado correctamente.\n"
     ]
    }
   ],
   "source": [
    "#This is a Notebook based on https://developers.google.com/earth-engine/tutorials/community/beginners-cookbook but made in Python, instead of JS\n",
    "import ee\n",
    "import geemap\n",
    "try:\n",
    "    ee.Initialize(project='supple-walker-461710-b8')\n",
    "    print(\"Earth Engine inicializado correctamente.\")\n",
    "except Exception as e:\n",
    "    ee.Authenticate()\n",
    "    ee.Initialize()\n",
    "    print(\"Autenticación realizada e inicialización completada.\")\n",
    "Map = geemap.Map()"
   ]
  },
  {
   "cell_type": "code",
   "execution_count": 5,
   "id": "e9dd1297-f089-44a0-bdd9-62a67ebce572",
   "metadata": {},
   "outputs": [
    {
     "data": {
      "text/html": [
       "\n",
       "            <style>\n",
       "                .geemap-dark {\n",
       "                    --jp-widgets-color: white;\n",
       "                    --jp-widgets-label-color: white;\n",
       "                    --jp-ui-font-color1: white;\n",
       "                    --jp-layout-color2: #454545;\n",
       "                    background-color: #383838;\n",
       "                }\n",
       "\n",
       "                .geemap-dark .jupyter-button {\n",
       "                    --jp-layout-color3: #383838;\n",
       "                }\n",
       "\n",
       "                .geemap-colab {\n",
       "                    background-color: var(--colab-primary-surface-color, white);\n",
       "                }\n",
       "\n",
       "                .geemap-colab .jupyter-button {\n",
       "                    --jp-layout-color3: var(--colab-primary-surface-color, white);\n",
       "                }\n",
       "            </style>\n",
       "            "
      ],
      "text/plain": [
       "<IPython.core.display.HTML object>"
      ]
     },
     "metadata": {},
     "output_type": "display_data"
    },
    {
     "data": {
      "application/vnd.jupyter.widget-view+json": {
       "model_id": "5c362aee3a4849b5997d2c3a53cea4fd",
       "version_major": 2,
       "version_minor": 0
      },
      "text/plain": [
       "Map(bottom=3641.0, center=[37.47164678275328, -122.14450014746849], controls=(WidgetControl(options=['position…"
      ]
     },
     "execution_count": 5,
     "metadata": {},
     "output_type": "execute_result"
    }
   ],
   "source": [
    "# Load Landsat 8 image (Colection 2 TOA)\n",
    "# Bands are spectral channels through which satellites capture information about the Earth's surface.\n",
    "# Each band corresponds to a different part of the electromagnetic spectrum (visible, infrared, etc.),\n",
    "# and each satellite has different band configurations.\n",
    "raw = ee.Image('LANDSAT/LC08/C02/T1_TOA/LC08_044034_20140318')\n",
    "\n",
    "# Visualize\n",
    "Map.center_object(raw, 10)\n",
    "Map.add_layer(raw.select(['B4','B3','B2']), {'min':0, 'max':0.3}, 'True color TOA')\n",
    "Map"
   ]
  },
  {
   "cell_type": "code",
   "execution_count": 12,
   "id": "580602b7-e806-4ae7-909f-67d430a92fd2",
   "metadata": {},
   "outputs": [
    {
     "data": {
      "text/html": [
       "\n",
       "            <style>\n",
       "                .geemap-dark {\n",
       "                    --jp-widgets-color: white;\n",
       "                    --jp-widgets-label-color: white;\n",
       "                    --jp-ui-font-color1: white;\n",
       "                    --jp-layout-color2: #454545;\n",
       "                    background-color: #383838;\n",
       "                }\n",
       "\n",
       "                .geemap-dark .jupyter-button {\n",
       "                    --jp-layout-color3: #383838;\n",
       "                }\n",
       "\n",
       "                .geemap-colab {\n",
       "                    background-color: var(--colab-primary-surface-color, white);\n",
       "                }\n",
       "\n",
       "                .geemap-colab .jupyter-button {\n",
       "                    --jp-layout-color3: var(--colab-primary-surface-color, white);\n",
       "                }\n",
       "            </style>\n",
       "            "
      ],
      "text/plain": [
       "<IPython.core.display.HTML object>"
      ]
     },
     "metadata": {},
     "output_type": "display_data"
    },
    {
     "name": "stdout",
     "output_type": "stream",
     "text": [
      "22\n"
     ]
    }
   ],
   "source": [
    "#Filter temporal and espatial collection\n",
    "pt = ee.Geometry.Point([-122.262, 37.8719])\n",
    "col = (ee.ImageCollection('LANDSAT/LC08/C02/T1_TOA')\n",
    "       .filterDate('2016-01-01','2016-12-31')\n",
    "       .filterBounds(pt))\n",
    "print(col.size().getInfo())"
   ]
  },
  {
   "cell_type": "code",
   "execution_count": 13,
   "id": "7f312891-90de-4e13-9d69-b4f90f5810fd",
   "metadata": {},
   "outputs": [
    {
     "data": {
      "text/html": [
       "\n",
       "            <style>\n",
       "                .geemap-dark {\n",
       "                    --jp-widgets-color: white;\n",
       "                    --jp-widgets-label-color: white;\n",
       "                    --jp-ui-font-color1: white;\n",
       "                    --jp-layout-color2: #454545;\n",
       "                    background-color: #383838;\n",
       "                }\n",
       "\n",
       "                .geemap-dark .jupyter-button {\n",
       "                    --jp-layout-color3: #383838;\n",
       "                }\n",
       "\n",
       "                .geemap-colab {\n",
       "                    background-color: var(--colab-primary-surface-color, white);\n",
       "                }\n",
       "\n",
       "                .geemap-colab .jupyter-button {\n",
       "                    --jp-layout-color3: var(--colab-primary-surface-color, white);\n",
       "                }\n",
       "            </style>\n",
       "            "
      ],
      "text/plain": [
       "<IPython.core.display.HTML object>"
      ]
     },
     "metadata": {},
     "output_type": "display_data"
    },
    {
     "data": {
      "application/vnd.jupyter.widget-view+json": {
       "model_id": "5c362aee3a4849b5997d2c3a53cea4fd",
       "version_major": 2,
       "version_minor": 0
      },
      "text/plain": [
       "Map(bottom=6518.0, center=[39.74267594458366, -119.28293785215574], controls=(WidgetControl(options=['position…"
      ]
     },
     "execution_count": 13,
     "metadata": {},
     "output_type": "execute_result"
    }
   ],
   "source": [
    "#Calculate NDVI y its mean\n",
    "# Natural Color: ['B4', 'B3', 'B2'] → Red, Green, Blue (as the human eye sees)\n",
    "# False infrared: ['B5', 'B4', 'B3'] → NIR, Red, green → highlight vegetation\n",
    "# NDVI: Use B5 (NIR) and B4 (Rojo):\n",
    "# NDVI= (B5-B4)/(B5+B4)\n",
    "\n",
    "ndvi = col.map(lambda i: i.normalizedDifference(['B5','B4']).rename('NDVI'))\n",
    "mean_ndvi = ndvi.mean()\n",
    "Map.addLayer(mean_ndvi, {'min':0,'max':1, 'palette':['blue','white','green']}, 'NDVI medio')\n",
    "Map"
   ]
  },
  {
   "cell_type": "code",
   "execution_count": 17,
   "id": "c0f1eee0-c986-41fe-bc6f-78ebaf3a9773",
   "metadata": {},
   "outputs": [
    {
     "data": {
      "text/html": [
       "\n",
       "            <style>\n",
       "                .geemap-dark {\n",
       "                    --jp-widgets-color: white;\n",
       "                    --jp-widgets-label-color: white;\n",
       "                    --jp-ui-font-color1: white;\n",
       "                    --jp-layout-color2: #454545;\n",
       "                    background-color: #383838;\n",
       "                }\n",
       "\n",
       "                .geemap-dark .jupyter-button {\n",
       "                    --jp-layout-color3: #383838;\n",
       "                }\n",
       "\n",
       "                .geemap-colab {\n",
       "                    background-color: var(--colab-primary-surface-color, white);\n",
       "                }\n",
       "\n",
       "                .geemap-colab .jupyter-button {\n",
       "                    --jp-layout-color3: var(--colab-primary-surface-color, white);\n",
       "                }\n",
       "            </style>\n",
       "            "
      ],
      "text/plain": [
       "<IPython.core.display.HTML object>"
      ]
     },
     "metadata": {},
     "output_type": "display_data"
    },
    {
     "name": "stdout",
     "output_type": "stream",
     "text": [
      "{'type': 'FeatureCollection', 'columns': {}, 'features': [{'type': 'Feature', 'geometry': None, 'id': '00010000000000000087', 'properties': {'county': 'Fairfield'}}, {'type': 'Feature', 'geometry': None, 'id': '00010000000000000088', 'properties': {'county': 'New Haven'}}, {'type': 'Feature', 'geometry': None, 'id': '00010000000000000089', 'properties': {'county': 'Litchfield'}}, {'type': 'Feature', 'geometry': None, 'id': '00010000000000000134', 'properties': {'county': 'Windham'}}, {'type': 'Feature', 'geometry': None, 'id': '00010000000000000182', 'properties': {'county': 'Middlesex'}}, {'type': 'Feature', 'geometry': None, 'id': '00010000000000000183', 'properties': {'county': 'Tolland'}}, {'type': 'Feature', 'geometry': None, 'id': '00010000000000000184', 'properties': {'county': 'Hartford'}}, {'type': 'Feature', 'geometry': None, 'id': '00010000000000000185', 'properties': {'county': 'New London'}}]}\n"
     ]
    }
   ],
   "source": [
    "# Reduce by region\n",
    "\n",
    "roi = (ee.FeatureCollection('TIGER/2018/Counties')\n",
    "       .filter(ee.Filter.eq('STATEFP','09')))\n",
    "stats = mean_ndvi.reduceRegions(collection=roi, reducer=ee.Reducer.mean(), scale=1000)\n",
    "# print(stats.getInfo()) Esto devuelve un chorizo demasiado gordo\n",
    "def extract_mean(feature):\n",
    "    return ee.Feature(None, {\n",
    "        'county': feature.get('NAME'),\n",
    "        'mean_ndvi': feature.get('mean')\n",
    "    })\n",
    "\n",
    "# Aplicar la función a todos los features\n",
    "simplified = stats.map(extract_mean)\n",
    "\n",
    "# Obtener los datos en formato Python\n",
    "print(simplified.getInfo())"
   ]
  },
  {
   "cell_type": "code",
   "execution_count": 18,
   "id": "51f81f63-4834-4504-9307-a429d1c576fb",
   "metadata": {},
   "outputs": [
    {
     "data": {
      "text/html": [
       "\n",
       "            <style>\n",
       "                .geemap-dark {\n",
       "                    --jp-widgets-color: white;\n",
       "                    --jp-widgets-label-color: white;\n",
       "                    --jp-ui-font-color1: white;\n",
       "                    --jp-layout-color2: #454545;\n",
       "                    background-color: #383838;\n",
       "                }\n",
       "\n",
       "                .geemap-dark .jupyter-button {\n",
       "                    --jp-layout-color3: #383838;\n",
       "                }\n",
       "\n",
       "                .geemap-colab {\n",
       "                    background-color: var(--colab-primary-surface-color, white);\n",
       "                }\n",
       "\n",
       "                .geemap-colab .jupyter-button {\n",
       "                    --jp-layout-color3: var(--colab-primary-surface-color, white);\n",
       "                }\n",
       "            </style>\n",
       "            "
      ],
      "text/plain": [
       "<IPython.core.display.HTML object>"
      ]
     },
     "metadata": {},
     "output_type": "display_data"
    },
    {
     "name": "stdout",
     "output_type": "stream",
     "text": [
      "Export iniciado\n"
     ]
    }
   ],
   "source": [
    "# Export to CSV\n",
    "task = ee.batch.Export.table.toDrive(collection=stats,\n",
    "                                     description='ndvi_CT',\n",
    "                                     fileFormat='CSV')\n",
    "task.start()\n",
    "print('Export iniciado')"
   ]
  },
  {
   "cell_type": "code",
   "execution_count": 19,
   "id": "4c6ac9fc-cbcb-4a5b-a126-00435f7eb9a3",
   "metadata": {},
   "outputs": [
    {
     "data": {
      "text/html": [
       "\n",
       "            <style>\n",
       "                .geemap-dark {\n",
       "                    --jp-widgets-color: white;\n",
       "                    --jp-widgets-label-color: white;\n",
       "                    --jp-ui-font-color1: white;\n",
       "                    --jp-layout-color2: #454545;\n",
       "                    background-color: #383838;\n",
       "                }\n",
       "\n",
       "                .geemap-dark .jupyter-button {\n",
       "                    --jp-layout-color3: #383838;\n",
       "                }\n",
       "\n",
       "                .geemap-colab {\n",
       "                    background-color: var(--colab-primary-surface-color, white);\n",
       "                }\n",
       "\n",
       "                .geemap-colab .jupyter-button {\n",
       "                    --jp-layout-color3: var(--colab-primary-surface-color, white);\n",
       "                }\n",
       "            </style>\n",
       "            "
      ],
      "text/plain": [
       "<IPython.core.display.HTML object>"
      ]
     },
     "metadata": {},
     "output_type": "display_data"
    },
    {
     "name": "stdout",
     "output_type": "stream",
     "text": [
      "Thumbnail URL: https://earthengine.googleapis.com/v1/projects/supple-walker-461710-b8/thumbnails/4b06e280f0d13a91fd6e98bc89905445-64d3b9c0f18588fc2bad696d159e6c28:getPixels\n"
     ]
    }
   ],
   "source": [
    "url = mean_ndvi.getThumbURL({'bbox': roi.geometry().bounds().getInfo()['coordinates'],\n",
    "                             'dimensions':512, 'palette':['blue','white','green'], 'min':0, 'max':1})\n",
    "print('Thumbnail URL:', url)"
   ]
  },
  {
   "cell_type": "code",
   "execution_count": 20,
   "id": "a16b340e-bf2b-4bd5-9753-f89966a59476",
   "metadata": {},
   "outputs": [
    {
     "data": {
      "text/html": [
       "\n",
       "            <style>\n",
       "                .geemap-dark {\n",
       "                    --jp-widgets-color: white;\n",
       "                    --jp-widgets-label-color: white;\n",
       "                    --jp-ui-font-color1: white;\n",
       "                    --jp-layout-color2: #454545;\n",
       "                    background-color: #383838;\n",
       "                }\n",
       "\n",
       "                .geemap-dark .jupyter-button {\n",
       "                    --jp-layout-color3: #383838;\n",
       "                }\n",
       "\n",
       "                .geemap-colab {\n",
       "                    background-color: var(--colab-primary-surface-color, white);\n",
       "                }\n",
       "\n",
       "                .geemap-colab .jupyter-button {\n",
       "                    --jp-layout-color3: var(--colab-primary-surface-color, white);\n",
       "                }\n",
       "            </style>\n",
       "            "
      ],
      "text/plain": [
       "<IPython.core.display.HTML object>"
      ]
     },
     "metadata": {},
     "output_type": "display_data"
    },
    {
     "data": {
      "application/vnd.jupyter.widget-view+json": {
       "model_id": "5c362aee3a4849b5997d2c3a53cea4fd",
       "version_major": 2,
       "version_minor": 0
      },
      "text/plain": [
       "Map(bottom=25970.0, center=[36.28856319836239, -124.36798095703126], controls=(WidgetControl(options=['positio…"
      ]
     },
     "execution_count": 20,
     "metadata": {},
     "output_type": "execute_result"
    }
   ],
   "source": [
    "Map.addLayer(mean_ndvi, {'min':0,'max':1,'palette':['blue','white','green']}, 'NDVI')\n",
    "Map"
   ]
  },
  {
   "cell_type": "code",
   "execution_count": 22,
   "id": "8b18eb0d-325b-47ce-9264-ad04fe08e074",
   "metadata": {},
   "outputs": [
    {
     "data": {
      "text/html": [
       "\n",
       "            <style>\n",
       "                .geemap-dark {\n",
       "                    --jp-widgets-color: white;\n",
       "                    --jp-widgets-label-color: white;\n",
       "                    --jp-ui-font-color1: white;\n",
       "                    --jp-layout-color2: #454545;\n",
       "                    background-color: #383838;\n",
       "                }\n",
       "\n",
       "                .geemap-dark .jupyter-button {\n",
       "                    --jp-layout-color3: #383838;\n",
       "                }\n",
       "\n",
       "                .geemap-colab {\n",
       "                    background-color: var(--colab-primary-surface-color, white);\n",
       "                }\n",
       "\n",
       "                .geemap-colab .jupyter-button {\n",
       "                    --jp-layout-color3: var(--colab-primary-surface-color, white);\n",
       "                }\n",
       "            </style>\n",
       "            "
      ],
      "text/plain": [
       "<IPython.core.display.HTML object>"
      ]
     },
     "metadata": {},
     "output_type": "display_data"
    },
    {
     "name": "stdout",
     "output_type": "stream",
     "text": [
      "                                                 geo       ALAND     AWATER  \\\n",
      "0  {'type': 'Polygon', 'coordinates': [[[-73.7277...  1618651428  549293518   \n",
      "1  {'type': 'Polygon', 'coordinates': [[[-73.3271...  1565688367  667081242   \n",
      "2  {'type': 'Polygon', 'coordinates': [[[-73.5180...  2384116952   62334525   \n",
      "3  {'type': 'Polygon', 'coordinates': [[[-72.2532...  1328478475   21477921   \n",
      "4  {'type': 'GeometryCollection', 'geometries': [...   956493754  180679140   \n",
      "\n",
      "  CBSAFP CLASSFP COUNTYFP  COUNTYNS CSAFP FUNCSTAT  GEOID     INTPTLAT  \\\n",
      "0  14860      H4      001  00212794   408        N  09001  +41.2274128   \n",
      "1  35300      H4      009  00212798   408        N  09009  +41.3497173   \n",
      "2  45860      H4      005  00212796   408        N  09005  +41.7918833   \n",
      "3  49340      H4      015  00212801   148        N  09015  +41.8249987   \n",
      "4  25540      H4      007  00212797   278        N  09007  +41.4330028   \n",
      "\n",
      "       INTPTLON LSAD METDIVFP  MTFCC        NAME           NAMELSAD STATEFP  \n",
      "0  -073.3670614   06           G4020   Fairfield   Fairfield County      09  \n",
      "1  -072.9002037   06           G4020   New Haven   New Haven County      09  \n",
      "2  -073.2354042   06           G4020  Litchfield  Litchfield County      09  \n",
      "3  -071.9907017   06           G4020     Windham     Windham County      09  \n",
      "4  -072.5227802   06           G4020   Middlesex   Middlesex County      09  \n"
     ]
    }
   ],
   "source": [
    "# If I want to import it to Pandas:\n",
    "import pandas as pd\n",
    "stats_df = ee.data.computeFeatures({'expression': stats, 'fileFormat':'PANDAS_DATAFRAME'})\n",
    "print(stats_df.head())"
   ]
  },
  {
   "cell_type": "code",
   "execution_count": null,
   "id": "d417cb35-8294-46f5-911d-33c3b52b1b46",
   "metadata": {},
   "outputs": [],
   "source": []
  }
 ],
 "metadata": {
  "kernelspec": {
   "display_name": "Python 3 (ipykernel)",
   "language": "python",
   "name": "python3"
  },
  "language_info": {
   "codemirror_mode": {
    "name": "ipython",
    "version": 3
   },
   "file_extension": ".py",
   "mimetype": "text/x-python",
   "name": "python",
   "nbconvert_exporter": "python",
   "pygments_lexer": "ipython3",
   "version": "3.11.11"
  }
 },
 "nbformat": 4,
 "nbformat_minor": 5
}
